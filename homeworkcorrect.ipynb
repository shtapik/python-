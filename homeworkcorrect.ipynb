{
 "cells": [
  {
   "cell_type": "markdown",
   "metadata": {},
   "source": [
    "**Задание 1**. Даны 2 строки: *long_phrase* и *short_phrase*. \n",
    "Напишите код, который проверяет действительно ли длинная фраза *long_phrase* длиннее короткой *short_phrase*. И выводит *True* или *False* в зависимости от результата сравнения."
   ]
  },
  {
   "cell_type": "code",
   "execution_count": 1,
   "metadata": {},
   "outputs": [],
   "source": [
    "long_phrase = 'Насколько проще было бы писать программы, если бы не заказчики'\n",
    "short_phrase = '640Кб должно хватить для любых задач. Билл Гейтс (по легенде)'"
   ]
  },
  {
   "cell_type": "code",
   "execution_count": 4,
   "metadata": {},
   "outputs": [
    {
     "data": {
      "text/plain": [
       "True"
      ]
     },
     "execution_count": 4,
     "metadata": {},
     "output_type": "execute_result"
    }
   ],
   "source": [
    "long_phrase = 'Насколько проще было бы писать программы, если бы не заказчики'\n",
    "short_phrase = '640Кб должно хватить для любых задач. Билл Гейтс (по легенде)'\n",
    "len(long_phrase) > len(short_phrase)\n"
   ]
  },
  {
   "cell_type": "markdown",
   "metadata": {},
   "source": [
    "**Задание 2**. Дано значение объема файла в байтах. Напишите перевод этого значения в мегабайты в формате: \"*Объем файла равен 213.68Mb*\""
   ]
  },
  {
   "cell_type": "code",
   "execution_count": 7,
   "metadata": {},
   "outputs": [
    {
     "name": "stdout",
     "output_type": "stream",
     "text": [
      "Введите объем файла в байтах: 10000000\n",
      "Объем файла в мегебайтах - 10.0\n"
     ]
    }
   ],
   "source": [
    "weight = input(\"Введите объем файла в байтах: \")\n",
    "a = int(weight)/1000000\n",
    "print(\"Объем файла в мегебайтах - \" + str(a))"
   ]
  },
  {
   "cell_type": "markdown",
   "metadata": {},
   "source": [
    "**Задание 3**. Разработать приложение для определения знака зодиака по дате рождения. Пример:\n",
    "\n",
    "Введите месяц: март\n",
    "\n",
    "Введите число: 6\n",
    "\n",
    "Вывод:\n",
    "Рыбы"
   ]
  },
  {
   "cell_type": "code",
   "execution_count": 8,
   "metadata": {},
   "outputs": [
    {
     "name": "stdout",
     "output_type": "stream",
     "text": [
      "Введите месяц с заглавной буквыАпрель\n",
      "Введите число20\n",
      "Овен\n"
     ]
    }
   ],
   "source": [
    "month = input('Введите месяц с заглавной буквы')\n",
    "number = int(input('Введите число'))\n",
    "if month == 'Март' and number >=21 or month == 'Апрель' and number <=20:\n",
    "    print(\"Овен\")\n",
    "elif month =='Апрель' and number >= 20 or month == 'Май' and number <= 20:\n",
    "    print(\"Телец\")\n",
    "elif month == 'Май' and number >= 21 or month =='Июнь' and number <= 20:\n",
    "    print(\"Близнецы\")\n",
    "elif month == 'Июнь' and number >= 21 or  month == 'Июль' and number <=22:\n",
    "    print('Рак')\n",
    "elif month =='Июль' and number >= 23 or month =='Август' and number <= 22:\n",
    "    print('Лев')\n",
    "elif month =='Август' and number >= 23 or month == 'Сентябрь' and number <= 22:\n",
    "    print(\"Дева\")\n",
    "elif month =='Сентябрь' and number >= 23 or month == 'Октябрь' and number <= 22:\n",
    "    print('Весы')\n",
    "elif month == 'Октябрь' and number >=23 or month =='Ноябрь' and number <= 21:\n",
    "    print('Скорпион')\n",
    "elif month =='Ноябрь' and number >= 22 or month == 'Декабрь' and number <= 21:\n",
    "    print(\"Стрелец\")\n",
    "elif month =='Декабрь' and number >= 20 or month == 'Январь' and number <= 21:\n",
    "    print('Козерог')\n",
    "elif month == 'Январь' and number >=22 or month =='Февраль' and number <= 20:\n",
    "    print('Водолей')\n",
    "elif month =='Апрель' and number >= 20 or month =='Март' and number <= 20:\n",
    "    print(\"Рыбы\")\n",
    "else:\n",
    "    print('Неверный формат ввода данных')\n"
   ]
  },
  {
   "cell_type": "markdown",
   "metadata": {},
   "source": [
    "**Задание 4**. Нужно разработать приложение для финансового планирования.\n",
    "Приложение учитывает сколько уходит на ипотеку, \"на жизнь\" и сколько нужно отложить на пенсию.\n",
    "Пользователь вводит:\n",
    "- заработанную плату в месяц.\n",
    "- сколько процентов от ЗП уходит на ипотеку.\n",
    "- сколько процентов от ЗП уходит \"на жизнь\".\n",
    "- сколько раз приходит премия в год.\n",
    "\n",
    "Остальная часть заработанной платы откладывается на пенсию.\n",
    "\n",
    "Также пользователю приходит премия в размере зарплаты, от которой половина уходит на отпуск, а вторая половина откладывается.\n",
    "\n",
    "Программа должна учитывать сколько премий было в год.\n",
    "\n",
    "Нужно вывести сколько денег тратит пользователь на ипотеку и сколько он накопит за год.\n",
    "\n",
    "Пример:\n",
    "\n",
    "Введите заработанную плату в месяц: 100000\n",
    "\n",
    "Введите сколько процентов уходит на ипотеку: 30\n",
    "\n",
    "Введите сколько процентов уходит на жизнь: 50\n",
    "\n",
    "Введите количество премий за год: 2\n",
    "\n",
    "Вывод:\n",
    "На ипотеку было потрачено: 360000 рублей\n",
    "Было накоплено: 340000 рублей"
   ]
  },
  {
   "cell_type": "code",
   "execution_count": 12,
   "metadata": {},
   "outputs": [
    {
     "name": "stdout",
     "output_type": "stream",
     "text": [
      "Введите заработную плату1000000\n",
      "Ведите сколько процентов уходит на ипотеку30\n",
      "Введите сколько процентов уходит на жизнь50\n",
      "Введите количество премий за год2\n",
      "Введите размер премии2500\n",
      "301500.0\n",
      "На ипотеку было потрачено: 301500.0Было накоплено:351750.0\n"
     ]
    }
   ],
   "source": [
    "wage = int(input('Введите заработную плату'))\n",
    "percent_i = int(input('Ведите сколько процентов уходит на ипотеку'))\n",
    "percent_l = int(input('Введите сколько процентов уходит на жизнь'))\n",
    "bonus = int(input('Введите количество премий за год'))\n",
    "bonussum = int(input('Введите размер премии'))\n",
    "wage = wage + bonus * bonussum\n",
    "lost_i = wage / 100 * percent_i\n",
    "print(lost_i)\n",
    "lost_l = (wage - lost_i) / 100 * percent_l\n",
    "accumulation = wage -(lost_l + lost_i) \n",
    "print('На ипотеку было потрачено: ' + str(lost_i) + 'Было накоплено:' + str(accumulation) )"
   ]
  },
  {
   "cell_type": "code",
   "execution_count": null,
   "metadata": {},
   "outputs": [],
   "source": []
  },
  {
   "cell_type": "code",
   "execution_count": null,
   "metadata": {},
   "outputs": [],
   "source": []
  }
 ],
 "metadata": {
  "kernelspec": {
   "display_name": "Python 3",
   "language": "python",
   "name": "python3"
  },
  "language_info": {
   "codemirror_mode": {
    "name": "ipython",
    "version": 3
   },
   "file_extension": ".py",
   "mimetype": "text/x-python",
   "name": "python",
   "nbconvert_exporter": "python",
   "pygments_lexer": "ipython3",
   "version": "3.7.3"
  }
 },
 "nbformat": 4,
 "nbformat_minor": 2
}
